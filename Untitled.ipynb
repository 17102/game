{
 "cells": [
  {
   "cell_type": "code",
   "execution_count": null,
   "id": "8587ebf4-7a18-4f16-9819-4a0e2f6a06c3",
   "metadata": {},
   "outputs": [
    {
     "name": "stdin",
     "output_type": "stream",
     "text": [
      "\n",
      "    Press 1 to Play\n",
      "    2 to Exit:\n",
      "     1\n"
     ]
    },
    {
     "name": "stdout",
     "output_type": "stream",
     "text": [
      "lets play Stone, Paper, Scissors\n"
     ]
    },
    {
     "name": "stdin",
     "output_type": "stream",
     "text": [
      "make your choice: \n",
      "                       1 for Stone \n",
      "                       2 for Paper \n",
      "                       3 for Scissors: 1\n"
     ]
    },
    {
     "name": "stdout",
     "output_type": "stream",
     "text": [
      ".................My turn.................\n",
      "my choice Paper\n",
      "your choice Stone\n",
      "I Won\n"
     ]
    },
    {
     "name": "stdin",
     "output_type": "stream",
     "text": [
      "make your choice: \n",
      "                       1 for Stone \n",
      "                       2 for Paper \n",
      "                       3 for Scissors: 2\n"
     ]
    },
    {
     "name": "stdout",
     "output_type": "stream",
     "text": [
      ".................My turn.................\n",
      "my choice Paper\n",
      "your choice Paper\n",
      "Game Draw\n"
     ]
    }
   ],
   "source": [
    "#Game Stone, Paper, Scissors\n",
    "import random\n",
    "while True:\n",
    "    my_point=0\n",
    "    Your_point=0\n",
    "    x = int(input('''\n",
    "    Press 1 to Play\n",
    "    2 to Exit:\n",
    "    '''))\n",
    "    if x==1:\n",
    "        print('lets play Stone, Paper, Scissors')\n",
    "        for i in range (1,4):\n",
    "            a = int(input('''make your choice: \n",
    "                       1 for Stone \n",
    "                       2 for Paper \n",
    "                       3 for Scissors:'''))\n",
    "            ch=\"\"\n",
    "            if a==1:\n",
    "                ch=\"Stone\"\n",
    "            elif a==2:\n",
    "                ch=\"Paper\"\n",
    "            elif a==3:\n",
    "                ch=\"Scissors\"\n",
    "            print('.................My turn.................')\n",
    "            b = random.choice([\"Stone\", \"Paper\", \"Scissors\"])\n",
    "            if ch==b:\n",
    "                print(f\"my choice {b}\")\n",
    "                print(f\"your choice {ch}\")\n",
    "                print(\"Game Draw\")\n",
    "            elif (ch==\"Stone\" and b==\"Paper\") or (ch==\"Paper\" and b==\"Scissors\") or (ch==\"Scissors\" and b==\"Stone\"):\n",
    "                print(f\"my choice {b}\")\n",
    "                print(f\"your choice {ch}\")\n",
    "                print(\"I Won\")\n",
    "                my_point += 1\n",
    "                #Your_point += 1\n",
    "            elif (b==\"Stone\" and ch==\"Paper\") or (b==\"Paper\" and ch==\"Scissors\") or (b==\"Scissors\" and ch==\"Stone\"):\n",
    "                print(f\"my choice {b}\")\n",
    "                print(f\"your choice {ch}\")\n",
    "                print(\"You Won\")\n",
    "                my_point += 1\n",
    "                #Your_point += 1\n",
    "        print(f\"my_point={my_point},Your_point={Your_point}\")\n",
    "        if my_point>Your_point:\n",
    "            print(\"I won this game\")\n",
    "        elif Your_point > my_point:\n",
    "                print(\"You won this game\")\n",
    "        else:\n",
    "            print(\"Draw\")\n",
    "\n",
    "    else:\n",
    "        break"
   ]
  },
  {
   "cell_type": "code",
   "execution_count": null,
   "id": "8af9fc33-49d5-4d00-98a3-14eea314e0de",
   "metadata": {},
   "outputs": [],
   "source": []
  }
 ],
 "metadata": {
  "kernelspec": {
   "display_name": "Python 3 (ipykernel)",
   "language": "python",
   "name": "python3"
  },
  "language_info": {
   "codemirror_mode": {
    "name": "ipython",
    "version": 3
   },
   "file_extension": ".py",
   "mimetype": "text/x-python",
   "name": "python",
   "nbconvert_exporter": "python",
   "pygments_lexer": "ipython3",
   "version": "3.12.0"
  }
 },
 "nbformat": 4,
 "nbformat_minor": 5
}
